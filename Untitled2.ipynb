{
 "cells": [
  {
   "cell_type": "code",
   "execution_count": 1,
   "id": "deca2f6f-c097-4f2f-a156-1611e7891b49",
   "metadata": {},
   "outputs": [],
   "source": [
    "Mi_dic=dict([\n",
    "    (\"Color\",[\"ROJO\", \"AZUL\", \"VERDE\"]),\n",
    "    (\"Marca\", [\"XIAOMI\", \"HUAWEI\"])\n",
    "        \n",
    "    ])"
   ]
  },
  {
   "cell_type": "code",
   "execution_count": 9,
   "id": "e0cd8ca1-63e2-4f23-ab54-9252059634e2",
   "metadata": {},
   "outputs": [
    {
     "name": "stdin",
     "output_type": "stream",
     "text": [
      "Escriba la categoria que quiera entre  'Color',  'Marca',  'Accesibilidad',  'Tamaño'     Color\n"
     ]
    },
    {
     "name": "stdout",
     "output_type": "stream",
     "text": [
      "ROJO AZUL VERDE "
     ]
    }
   ],
   "source": [
    "diccionario=input(\"Escriba la categoria que quiera entre  'Color',  'Marca',  'Accesibilidad',  'Tamaño'    \") \n",
    "for i in Mi_dic[diccionario]:\n",
    "    print(i, end=\" \")"
   ]
  },
  {
   "cell_type": "code",
   "execution_count": null,
   "id": "f791d51c-8d18-493e-8c3a-92f42f668dfa",
   "metadata": {},
   "outputs": [],
   "source": []
  },
  {
   "cell_type": "code",
   "execution_count": null,
   "id": "570c3c78-7374-4e14-a177-f0e03a0bb18a",
   "metadata": {},
   "outputs": [],
   "source": []
  }
 ],
 "metadata": {
  "kernelspec": {
   "display_name": "Python 3 (ipykernel)",
   "language": "python",
   "name": "python3"
  },
  "language_info": {
   "codemirror_mode": {
    "name": "ipython",
    "version": 3
   },
   "file_extension": ".py",
   "mimetype": "text/x-python",
   "name": "python",
   "nbconvert_exporter": "python",
   "pygments_lexer": "ipython3",
   "version": "3.9.12"
  }
 },
 "nbformat": 4,
 "nbformat_minor": 5
}
